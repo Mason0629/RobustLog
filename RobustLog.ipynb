{
 "cells": [
  {
   "cell_type": "code",
   "execution_count": 1,
   "metadata": {},
   "outputs": [
    {
     "name": "stdout",
     "output_type": "stream",
     "text": [
      "2.0.0-alpha0\n"
     ]
    }
   ],
   "source": [
    "import warnings\n",
    "warnings.filterwarnings(\"ignore\")\n",
    "\n",
    "import numpy as np\n",
    "import matplotlib.pyplot as plt\n",
    "import tensorflow as tf\n",
    "\n",
    "import sys\n",
    "sys.path.append(\"../ToolBox/\")\n",
    "import DataTools_ver_02 as DataTools\n",
    "print(tf.__version__)\n",
    "\n",
    "import fasttext\n",
    "\n",
    "def plotModel(model, model_name=\"model\"):\n",
    "    model_name = model_name + \".png\"\n",
    "    return tf.keras.utils.plot_model(model, model_name, show_shapes=True)"
   ]
  },
  {
   "cell_type": "code",
   "execution_count": 2,
   "metadata": {},
   "outputs": [],
   "source": [
    "class BiLSTM(tf.keras.Model):\n",
    "    def __init__(self, units, vocab_size, embedding_dim):\n",
    "        super(BiLSTM, self).__init__()\n",
    "        self.embedding_layer = tf.keras.layers.Embedding(vocab_size, embedding_dim)\n",
    "        self.lstm_layer = tf.keras.layers.LSTM(units, return_sequences=True)\n",
    "        \n",
    "    def call(self, inputs):\n",
    "        emb = self.embedding_layer(inputs)\n",
    "        h = tf.keras.layers.Bidirectional(self.lstm_layer, merge_mode='concat')(emb)\n",
    "        \n",
    "        return h\n",
    "    \n",
    "class Attention(tf.keras.Model):\n",
    "    def __init__(self, units):\n",
    "        super(Attention, self).__init__()\n",
    "        self.units = units\n",
    "        self.w = tf.keras.layers.Dense(units)\n",
    "        self.v = tf.keras.layers.Dense(1)\n",
    "        \n",
    "    def call(self, bilstm_ops):\n",
    "        logits = self.w(bilstm_ops)\n",
    "        score = self.v(tf.nn.tanh(logits))\n",
    "        attention_weights =  tf.nn.softmax(score, axis=1)\n",
    "        context_vec = bilstm_ops * attention_weights\n",
    "        context_vec = tf.reduce_sum(context_vec, axis=1)\n",
    "        \n",
    "        return context_vec, attention_weights\n",
    "    \n",
    "class AttentionClassification(tf.keras.Model):\n",
    "    def __init__(self, num_class, units_, units, vocab_size, embedding_dim):\n",
    "        super(AttentionClassification, self).__init__()\n",
    "        self.units_ = units_\n",
    "        self.units = units\n",
    "        self.vocab_size = vocab_size\n",
    "        self.embedding_dim = embedding_dim\n",
    "        self.w = tf.keras.layers.Dense(num_class)\n",
    "        \n",
    "    def call(self, input_x):\n",
    "        bilstm = BiLSTM(units, self.vocab_size, self.embedding_dim)\n",
    "        attention = Attention(self.units_)\n",
    "        h = bilstm(test_input_x)\n",
    "        context_vec, attention_weights = attention(h)\n",
    "        logits = self.w(context_vec)\n",
    "        \n",
    "        return logits, attention_weights"
   ]
  },
  {
   "cell_type": "code",
   "execution_count": 4,
   "metadata": {},
   "outputs": [
    {
     "name": "stdout",
     "output_type": "stream",
     "text": [
      "[0.00069278 0.00225408]\n",
      "[0.10003316 0.09983216 0.09964409 0.09992294 0.09965151 0.1003185\n",
      " 0.09943189 0.10005135 0.10024296 0.10087139]\n"
     ]
    }
   ],
   "source": [
    "units_ = 10\n",
    "units = 64\n",
    "vocab_size = 50\n",
    "embedding_dim = 20\n",
    "num_class = 2\n",
    "\n",
    "test_input_x = np.array(range(10)).reshape(1, 10)\n",
    "classifier = AttentionClassification(num_class, units_, units, vocab_size, embedding_dim)\n",
    "logits, attention_weights = classifier(test_input_x)\n",
    "print(logits.numpy().flatten())\n",
    "print(attention_weights.numpy().flatten())"
   ]
  },
  {
   "cell_type": "code",
   "execution_count": 31,
   "metadata": {},
   "outputs": [
    {
     "name": "stdout",
     "output_type": "stream",
     "text": [
      "Model: \"model_3\"\n",
      "_________________________________________________________________\n",
      "Layer (type)                 Output Shape              Param #   \n",
      "=================================================================\n",
      "input_4 (InputLayer)         [(None, None)]            0         \n",
      "_________________________________________________________________\n",
      "attention_classification_7 ( ((1, 2), (1, 10, 1))      258       \n",
      "=================================================================\n",
      "Total params: 258\n",
      "Trainable params: 258\n",
      "Non-trainable params: 0\n",
      "_________________________________________________________________\n"
     ]
    }
   ],
   "source": [
    "inputs = tf.keras.Input((None,))\n",
    "outputs = classifier(inputs)[0]\n",
    "model = tf.keras.Model(inputs, outputs)\n",
    "optimizer = tf.keras.optimizers.Adam(learning_rate=0.001)\n",
    "loss_object = tf.keras.losses.CategoricalCrossentropy()\n",
    "model.compile(optimizer=optimizer, loss=loss_object)\n",
    "model.summary()"
   ]
  }
 ],
 "metadata": {
  "kernelspec": {
   "display_name": "Python 3",
   "language": "python",
   "name": "python3"
  },
  "language_info": {
   "codemirror_mode": {
    "name": "ipython",
    "version": 3
   },
   "file_extension": ".py",
   "mimetype": "text/x-python",
   "name": "python",
   "nbconvert_exporter": "python",
   "pygments_lexer": "ipython3",
   "version": "3.7.5"
  }
 },
 "nbformat": 4,
 "nbformat_minor": 2
}
